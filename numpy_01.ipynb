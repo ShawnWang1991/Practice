{
 "cells": [
  {
   "cell_type": "code",
   "execution_count": 2,
   "metadata": {
    "collapsed": true
   },
   "outputs": [],
   "source": [
    "import numpy as np"
   ]
  },
  {
   "cell_type": "code",
   "execution_count": 5,
   "metadata": {
    "collapsed": false
   },
   "outputs": [
    {
     "name": "stdout",
     "output_type": "stream",
     "text": [
      "[[1 2 3]\n",
      " [2 3 4]]\n",
      "number of dim: 2\n",
      "shape: (2, 3)\n",
      "size: 6\n"
     ]
    }
   ],
   "source": [
    "array = np.array([[1,2,3],\n",
    "                  [2,3,4]])\n",
    "print(array)\n",
    "print('number of dim:',array.ndim)     #维度\n",
    "print('shape:',array.shape)            #array的形状，几行几列\n",
    "print('size:',array.size)              #元素个数"
   ]
  },
  {
   "cell_type": "code",
   "execution_count": 9,
   "metadata": {
    "collapsed": false
   },
   "outputs": [
    {
     "name": "stdout",
     "output_type": "stream",
     "text": [
      "[ 0  1  2  3  4  5  6  7  8  9 10 11]\n",
      "int32\n"
     ]
    }
   ],
   "source": [
    "# 创建array 定义array的数据类型（type）\n",
    "a = np.zeros((3,4))                   #全为 0 的数组\n",
    "a = np.ones((3,4))  \n",
    "a = np.arange(10,20,2)                # 10-20 步长为2\n",
    "a = np.arange(12).reshape((3,4))      # reshape定义数组的形状\n",
    "a = np.linspace(1,10,5)                  # 1-10 分五段 自动匹配数值\n",
    "print(a)\n",
    "a = np.array([2,23,4],dtype = np.int)    # np.float, np.int16, np.int32, np.int64, et.al\n",
    "print(a.dtype)"
   ]
  },
  {
   "cell_type": "code",
   "execution_count": 8,
   "metadata": {
    "collapsed": false
   },
   "outputs": [
    {
     "name": "stdout",
     "output_type": "stream",
     "text": [
      "[10 20 30 40] [0 1 2 3]\n",
      "[-0.54402111  0.91294525 -0.98803162  0.74511316]\n",
      "[0 1 2 3]\n",
      "[False False False  True]\n",
      "[False False  True False]\n",
      "[[0 1]\n",
      " [0 3]]\n",
      "[[2 4]\n",
      " [2 3]]\n",
      "[[2 4]\n",
      " [2 3]]\n",
      "[[ 2  3  4  5]\n",
      " [ 6  7  8  9]\n",
      " [10 11 12 13]]\n",
      "90\n",
      "[14 30 46]\n",
      "13\n",
      "[10 11 12 13]\n",
      "2\n",
      "7.5\n",
      "7.5\n",
      "[ 2  5  9 14 20 27 35 44 54 65 77 90]\n",
      "[[1 1 1]\n",
      " [1 1 1]\n",
      " [1 1 1]]\n",
      "[[14 13 12 11]\n",
      " [10  9  8  7]\n",
      " [ 6  5  4  3]]\n",
      "[[11 12 13 14]\n",
      " [ 7  8  9 10]\n",
      " [ 3  4  5  6]]\n",
      "[[14 10  6]\n",
      " [13  9  5]\n",
      " [12  8  4]\n",
      " [11  7  3]]\n",
      "[[14 10  6]\n",
      " [13  9  5]\n",
      " [12  8  4]\n",
      " [11  7  3]]\n",
      "[[9 9 9 9]\n",
      " [9 9 8 7]\n",
      " [6 5 5 5]]\n"
     ]
    }
   ],
   "source": [
    "# numpy 基础运算\n",
    "a = np.array([10,20,30,40])\n",
    "b = np.arange(4)\n",
    "c = a + b\n",
    "c = a - b\n",
    "c = b**2\n",
    "c = np.sin(a)            #三角函数，np.sin(), np.cos(), np.tan()\n",
    "\n",
    "print(a,b)\n",
    "print(c)\n",
    "\n",
    "# 判断不等式\n",
    "print(b)\n",
    "print(b > 2)\n",
    "print(b==2)\n",
    "\n",
    "#矩阵运算\n",
    "a = np.array([[1,1],[0,1]])\n",
    "b = np.arange(4).reshape((2,2))\n",
    "\n",
    "c = a*b                          # 逐个相乘\n",
    "c_dot = np.dot(a,b)              # 矩阵相乘\n",
    "c_dot2 = a.dot(b)                # 矩阵相乘\n",
    "\n",
    "print(c)\n",
    "print(c_dot)\n",
    "print(c_dot2)\n",
    "\n",
    "# a = np.random.random((2,4))     # 生成0-1之间2*4的随机数组\n",
    "a = np.arange(2,14).reshape((3,4))\n",
    "print(a)\n",
    "print(np.sum(a))                # 求和\n",
    "print(np.sum(a,axis=1))        # 行求和，axis=0代表列，axis=1代表行\n",
    "print(np.max(a))                # 求最大值\n",
    "print(np.max(a,axis=0)) \n",
    "print(np.min(a))                # 求最小值\n",
    "print(np.mean(a))               # 平均值  \n",
    "print(np.median(a))             # 中位数\n",
    "print(np.cumsum(a))             # 累加值\n",
    "print(np.diff(a))               # 累差值 后一个数值减前一个 3*4 变成 3*3\n",
    "\n",
    "a = np.arange(14,2,-1).reshape((3,4))\n",
    "print(a)\n",
    "print(np.sort(a))               # 逐行进行排序 \n",
    "print(np.transpose(a))          # 矩阵转置 \n",
    "print(a.T)                      # 矩阵转置 \n",
    "print(np.clip(a,5,9))           # 矩阵中所有小于5的数赋值为5，所有大于9的数赋值为9"
   ]
  },
  {
   "cell_type": "code",
   "execution_count": 11,
   "metadata": {
    "collapsed": true
   },
   "outputs": [
    {
     "name": "stdout",
     "output_type": "stream",
     "text": [
      "[[ 3  4  5  6]\n",
      " [ 7  8  9 10]\n",
      " [11 12 13 14]]\n",
      "0\n",
      "11\n",
      "[11 12 13 14]\n",
      "[ 4  8 12]\n",
      "8\n",
      "[3 4 5 6]\n",
      "[ 7  8  9 10]\n",
      "[11 12 13 14]\n",
      "[ 3  7 11]\n",
      "[ 4  8 12]\n",
      "[ 5  9 13]\n",
      "[ 6 10 14]\n",
      "[ 3  4  5  6  7  8  9 10 11 12 13 14]\n",
      "3\n",
      "4\n",
      "5\n",
      "6\n",
      "7\n",
      "8\n",
      "9\n",
      "10\n",
      "11\n",
      "12\n",
      "13\n",
      "14\n"
     ]
    }
   ],
   "source": [
    "# numpy 索引\n",
    "a = np.arange(3,15).reshape((3,4))\n",
    "\n",
    "print(a)\n",
    "print(np.argmin(a))           # 最小值的索引\n",
    "print(np.argmax(a))           # 最大值的索引\n",
    "print(a[2])                   # 索引第三行\n",
    "print(a[:,1])                 # 索引第二列\n",
    "print(a[1,1])                 # 索引第二行第二列\n",
    "\n",
    "# 迭代数组的行\n",
    "for row in a:\n",
    "    print(row)\n",
    "    \n",
    "# 迭代数组的列\n",
    "for column in a.T:\n",
    "    print(column)\n",
    "    \n",
    "# 迭代数组的每个元素\n",
    "print(a.flatten())        # 将数组变成序列\n",
    "for item in a.flat:       # a.flat 为迭代器\n",
    "    print(item)"
   ]
  },
  {
   "cell_type": "code",
   "execution_count": 14,
   "metadata": {
    "collapsed": false
   },
   "outputs": [
    {
     "name": "stdout",
     "output_type": "stream",
     "text": [
      "[[1 1 1]\n",
      " [2 2 2]] [1 1 1 2 2 2]\n",
      "[1 1 1 2 2 2 2 2 2 1 1 1]\n"
     ]
    }
   ],
   "source": [
    "# array合并\n",
    "a = np.array([1,1,1])\n",
    "b = np.array([2,2,2])\n",
    "\n",
    "# a = a[:,np.newaxis]     # 列上加了一个维度，变成（3,1）的矩阵，a[np.newaxis,:]行上加维度,变成（1,3）矩阵\n",
    "# b = b[np.newaxis,:]\n",
    "# print(b,b.shape)\n",
    "\n",
    "c = np.vstack((a,b))     # vertical stack 垂直（上下）合并\n",
    "d = np.hstack((a,b))     # horizontal stack 水平合并\n",
    "\n",
    "print(c,d)\n",
    "\n",
    "c = np.concatenate((a,b,b,a),axis=0)    # 多个array合并，axis=0 为纵向合并，axis=1 为横向合并\n",
    "print(c)\n",
    "   "
   ]
  },
  {
   "cell_type": "code",
   "execution_count": 15,
   "metadata": {
    "collapsed": false
   },
   "outputs": [
    {
     "name": "stdout",
     "output_type": "stream",
     "text": [
      "[array([[0, 1],\n",
      "       [4, 5],\n",
      "       [8, 9]]), array([[ 2,  3],\n",
      "       [ 6,  7],\n",
      "       [10, 11]])]\n",
      "[array([[0, 1],\n",
      "       [4, 5],\n",
      "       [8, 9]]), array([[ 2],\n",
      "       [ 6],\n",
      "       [10]]), array([[ 3],\n",
      "       [ 7],\n",
      "       [11]])]\n",
      "[array([[0, 1, 2, 3]]), array([[4, 5, 6, 7]]), array([[ 8,  9, 10, 11]])]\n",
      "[array([[0, 1],\n",
      "       [4, 5],\n",
      "       [8, 9]]), array([[ 2,  3],\n",
      "       [ 6,  7],\n",
      "       [10, 11]])]\n"
     ]
    }
   ],
   "source": [
    "# array分割\n",
    "a = np.arange(12).reshape(3,4)\n",
    "\n",
    "print(np.split(a,2,axis =1))           # 2 代表分割成两份，axis=1列分割,横向分割，axis=0为行分割，纵向分割\n",
    "print(np.array_split(a,3,axis =1))     # 不等份分割\n",
    "print(np.vsplit(a,3))                  # 纵向分割\n",
    "print(np.hsplit(a,2))                  # 横向分割"
   ]
  },
  {
   "cell_type": "code",
   "execution_count": 16,
   "metadata": {
    "collapsed": false
   },
   "outputs": [
    {
     "name": "stdout",
     "output_type": "stream",
     "text": [
      "[ 1  2 11] [1 2 3]\n"
     ]
    }
   ],
   "source": [
    "# numpy赋值\n",
    "a = np.array([1,2,3])\n",
    "b = a            # a与b关联，a改变b也改变，吧改变也会导致a改变\n",
    "b = a.copy()     # deep copy  a的值赋值与b，但是不关联，相互的值改变不影响彼此\n",
    "a[2]=11\n",
    "print(a,b)"
   ]
  },
  {
   "cell_type": "code",
   "execution_count": null,
   "metadata": {
    "collapsed": true
   },
   "outputs": [],
   "source": []
  }
 ],
 "metadata": {
  "anaconda-cloud": {},
  "kernelspec": {
   "display_name": "Python [default]",
   "language": "python",
   "name": "python3"
  },
  "language_info": {
   "codemirror_mode": {
    "name": "ipython",
    "version": 3
   },
   "file_extension": ".py",
   "mimetype": "text/x-python",
   "name": "python",
   "nbconvert_exporter": "python",
   "pygments_lexer": "ipython3",
   "version": "3.5.2"
  }
 },
 "nbformat": 4,
 "nbformat_minor": 1
}
