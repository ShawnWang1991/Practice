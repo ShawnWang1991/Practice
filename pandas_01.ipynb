{
 "cells": [
  {
   "cell_type": "code",
   "execution_count": 1,
   "metadata": {
    "collapsed": true
   },
   "outputs": [],
   "source": [
    "import pandas as pd\n",
    "import numpy as np"
   ]
  },
  {
   "cell_type": "code",
   "execution_count": 5,
   "metadata": {
    "collapsed": false
   },
   "outputs": [
    {
     "name": "stdout",
     "output_type": "stream",
     "text": [
      "0    1.0\n",
      "1    3.0\n",
      "2    5.0\n",
      "3    NaN\n",
      "4    7.0\n",
      "dtype: float64\n"
     ]
    }
   ],
   "source": [
    "s = pd.Series([1,3,5,np.nan,7])        # Series 一维\n",
    "print(s)"
   ]
  },
  {
   "cell_type": "code",
   "execution_count": 3,
   "metadata": {
    "collapsed": true
   },
   "outputs": [
    {
     "name": "stdout",
     "output_type": "stream",
     "text": [
      "DatetimeIndex(['2017-01-01', '2017-01-02', '2017-01-03', '2017-01-04',\n",
      "               '2017-01-05', '2017-01-06'],\n",
      "              dtype='datetime64[ns]', freq='D')\n",
      "                   a         b         c         d\n",
      "2017-01-01 -1.805999  0.589008 -1.677264 -0.937393\n",
      "2017-01-02 -1.293211 -0.714637  0.371516 -0.640178\n",
      "2017-01-03  0.372253 -0.011574  0.674358 -1.380995\n",
      "2017-01-04  0.691012  0.807024  0.225578  0.995822\n",
      "2017-01-05  0.117247 -0.595345 -0.352608  1.334286\n",
      "2017-01-06 -1.489065  1.030647  1.159061  0.827351\n",
      "DatetimeIndex(['2017-01-01', '2017-01-02', '2017-01-03', '2017-01-04',\n",
      "               '2017-01-05', '2017-01-06'],\n",
      "              dtype='datetime64[ns]', freq='D')\n",
      "Index(['a', 'b', 'c', 'd'], dtype='object')\n",
      "[[-1.80599899  0.58900803 -1.67726408 -0.93739289]\n",
      " [-1.29321142 -0.71463739  0.37151627 -0.6401782 ]\n",
      " [ 0.37225347 -0.01157366  0.67435849 -1.38099488]\n",
      " [ 0.69101151  0.80702392  0.22557789  0.99582235]\n",
      " [ 0.11724728 -0.59534452 -0.35260835  1.33428629]\n",
      " [-1.48906457  1.03064711  1.15906117  0.82735134]]\n",
      "              a         b         c         d\n",
      "count  6.000000  6.000000  6.000000  6.000000\n",
      "mean  -0.567960  0.184187  0.066774  0.033149\n",
      "std    1.081266  0.737859  0.989736  1.152873\n",
      "min   -1.805999 -0.714637 -1.677264 -1.380995\n",
      "25%   -1.440101 -0.449402 -0.208062 -0.863089\n",
      "50%   -0.587982  0.288717  0.298547  0.093587\n",
      "75%    0.308502  0.752520  0.598648  0.953705\n",
      "max    0.691012  1.030647  1.159061  1.334286\n"
     ]
    }
   ],
   "source": [
    "dates = pd.date_range('20170101',periods=6)\n",
    "print(dates)\n",
    "df = pd.DataFrame(np.random.randn(6,4),index=dates,columns=['a','b','c','d'])           # DataFrame 二维\n",
    "print(df)\n",
    "print(df.index)\n",
    "print(df.columns)\n",
    "print(df.values)\n",
    "print(df.describe())"
   ]
  },
  {
   "cell_type": "code",
   "execution_count": 4,
   "metadata": {
    "collapsed": true
   },
   "outputs": [
    {
     "data": {
      "text/html": [
       "<div>\n",
       "<table border=\"1\" class=\"dataframe\">\n",
       "  <thead>\n",
       "    <tr style=\"text-align: right;\">\n",
       "      <th></th>\n",
       "      <th>a</th>\n",
       "      <th>b</th>\n",
       "      <th>c</th>\n",
       "      <th>d</th>\n",
       "    </tr>\n",
       "  </thead>\n",
       "  <tbody>\n",
       "    <tr>\n",
       "      <th>2017-01-06</th>\n",
       "      <td>0.888230</td>\n",
       "      <td>-1.336308</td>\n",
       "      <td>0.418162</td>\n",
       "      <td>0.230974</td>\n",
       "    </tr>\n",
       "    <tr>\n",
       "      <th>2017-01-05</th>\n",
       "      <td>1.083968</td>\n",
       "      <td>0.296604</td>\n",
       "      <td>-1.403617</td>\n",
       "      <td>1.421286</td>\n",
       "    </tr>\n",
       "    <tr>\n",
       "      <th>2017-01-04</th>\n",
       "      <td>-1.255188</td>\n",
       "      <td>1.639585</td>\n",
       "      <td>0.908117</td>\n",
       "      <td>0.855973</td>\n",
       "    </tr>\n",
       "    <tr>\n",
       "      <th>2017-01-03</th>\n",
       "      <td>-0.021487</td>\n",
       "      <td>-0.881454</td>\n",
       "      <td>-0.266406</td>\n",
       "      <td>2.842032</td>\n",
       "    </tr>\n",
       "    <tr>\n",
       "      <th>2017-01-02</th>\n",
       "      <td>1.862019</td>\n",
       "      <td>1.854712</td>\n",
       "      <td>-1.923776</td>\n",
       "      <td>1.109714</td>\n",
       "    </tr>\n",
       "    <tr>\n",
       "      <th>2017-01-01</th>\n",
       "      <td>0.799370</td>\n",
       "      <td>-0.543951</td>\n",
       "      <td>-0.866076</td>\n",
       "      <td>1.742204</td>\n",
       "    </tr>\n",
       "  </tbody>\n",
       "</table>\n",
       "</div>"
      ],
      "text/plain": [
       "                   a         b         c         d\n",
       "2017-01-06  0.888230 -1.336308  0.418162  0.230974\n",
       "2017-01-05  1.083968  0.296604 -1.403617  1.421286\n",
       "2017-01-04 -1.255188  1.639585  0.908117  0.855973\n",
       "2017-01-03 -0.021487 -0.881454 -0.266406  2.842032\n",
       "2017-01-02  1.862019  1.854712 -1.923776  1.109714\n",
       "2017-01-01  0.799370 -0.543951 -0.866076  1.742204"
      ]
     },
     "execution_count": 4,
     "metadata": {},
     "output_type": "execute_result"
    }
   ],
   "source": [
    "df.sort_index(axis=0,ascending=False)        #对索引排序，axis=0为行索引排序，axis=1为列索引排序  ascending‘升序’"
   ]
  },
  {
   "cell_type": "code",
   "execution_count": 5,
   "metadata": {
    "collapsed": true
   },
   "outputs": [
    {
     "data": {
      "text/html": [
       "<div>\n",
       "<table border=\"1\" class=\"dataframe\">\n",
       "  <thead>\n",
       "    <tr style=\"text-align: right;\">\n",
       "      <th></th>\n",
       "      <th>d</th>\n",
       "      <th>c</th>\n",
       "      <th>b</th>\n",
       "      <th>a</th>\n",
       "    </tr>\n",
       "  </thead>\n",
       "  <tbody>\n",
       "    <tr>\n",
       "      <th>2017-01-01</th>\n",
       "      <td>1.742204</td>\n",
       "      <td>-0.866076</td>\n",
       "      <td>-0.543951</td>\n",
       "      <td>0.799370</td>\n",
       "    </tr>\n",
       "    <tr>\n",
       "      <th>2017-01-02</th>\n",
       "      <td>1.109714</td>\n",
       "      <td>-1.923776</td>\n",
       "      <td>1.854712</td>\n",
       "      <td>1.862019</td>\n",
       "    </tr>\n",
       "    <tr>\n",
       "      <th>2017-01-03</th>\n",
       "      <td>2.842032</td>\n",
       "      <td>-0.266406</td>\n",
       "      <td>-0.881454</td>\n",
       "      <td>-0.021487</td>\n",
       "    </tr>\n",
       "    <tr>\n",
       "      <th>2017-01-04</th>\n",
       "      <td>0.855973</td>\n",
       "      <td>0.908117</td>\n",
       "      <td>1.639585</td>\n",
       "      <td>-1.255188</td>\n",
       "    </tr>\n",
       "    <tr>\n",
       "      <th>2017-01-05</th>\n",
       "      <td>1.421286</td>\n",
       "      <td>-1.403617</td>\n",
       "      <td>0.296604</td>\n",
       "      <td>1.083968</td>\n",
       "    </tr>\n",
       "    <tr>\n",
       "      <th>2017-01-06</th>\n",
       "      <td>0.230974</td>\n",
       "      <td>0.418162</td>\n",
       "      <td>-1.336308</td>\n",
       "      <td>0.888230</td>\n",
       "    </tr>\n",
       "  </tbody>\n",
       "</table>\n",
       "</div>"
      ],
      "text/plain": [
       "                   d         c         b         a\n",
       "2017-01-01  1.742204 -0.866076 -0.543951  0.799370\n",
       "2017-01-02  1.109714 -1.923776  1.854712  1.862019\n",
       "2017-01-03  2.842032 -0.266406 -0.881454 -0.021487\n",
       "2017-01-04  0.855973  0.908117  1.639585 -1.255188\n",
       "2017-01-05  1.421286 -1.403617  0.296604  1.083968\n",
       "2017-01-06  0.230974  0.418162 -1.336308  0.888230"
      ]
     },
     "execution_count": 5,
     "metadata": {},
     "output_type": "execute_result"
    }
   ],
   "source": [
    "df.sort_index(axis=1,ascending=False) "
   ]
  },
  {
   "cell_type": "code",
   "execution_count": 7,
   "metadata": {
    "collapsed": true
   },
   "outputs": [
    {
     "data": {
      "text/html": [
       "<div>\n",
       "<table border=\"1\" class=\"dataframe\">\n",
       "  <thead>\n",
       "    <tr style=\"text-align: right;\">\n",
       "      <th></th>\n",
       "      <th>a</th>\n",
       "      <th>b</th>\n",
       "      <th>c</th>\n",
       "      <th>d</th>\n",
       "    </tr>\n",
       "  </thead>\n",
       "  <tbody>\n",
       "    <tr>\n",
       "      <th>2017-01-01</th>\n",
       "      <td>-1.805999</td>\n",
       "      <td>0.589008</td>\n",
       "      <td>-1.677264</td>\n",
       "      <td>-0.937393</td>\n",
       "    </tr>\n",
       "    <tr>\n",
       "      <th>2017-01-05</th>\n",
       "      <td>0.117247</td>\n",
       "      <td>-0.595345</td>\n",
       "      <td>-0.352608</td>\n",
       "      <td>1.334286</td>\n",
       "    </tr>\n",
       "    <tr>\n",
       "      <th>2017-01-04</th>\n",
       "      <td>0.691012</td>\n",
       "      <td>0.807024</td>\n",
       "      <td>0.225578</td>\n",
       "      <td>0.995822</td>\n",
       "    </tr>\n",
       "    <tr>\n",
       "      <th>2017-01-02</th>\n",
       "      <td>-1.293211</td>\n",
       "      <td>-0.714637</td>\n",
       "      <td>0.371516</td>\n",
       "      <td>-0.640178</td>\n",
       "    </tr>\n",
       "    <tr>\n",
       "      <th>2017-01-03</th>\n",
       "      <td>0.372253</td>\n",
       "      <td>-0.011574</td>\n",
       "      <td>0.674358</td>\n",
       "      <td>-1.380995</td>\n",
       "    </tr>\n",
       "    <tr>\n",
       "      <th>2017-01-06</th>\n",
       "      <td>-1.489065</td>\n",
       "      <td>1.030647</td>\n",
       "      <td>1.159061</td>\n",
       "      <td>0.827351</td>\n",
       "    </tr>\n",
       "  </tbody>\n",
       "</table>\n",
       "</div>"
      ],
      "text/plain": [
       "                   a         b         c         d\n",
       "2017-01-01 -1.805999  0.589008 -1.677264 -0.937393\n",
       "2017-01-05  0.117247 -0.595345 -0.352608  1.334286\n",
       "2017-01-04  0.691012  0.807024  0.225578  0.995822\n",
       "2017-01-02 -1.293211 -0.714637  0.371516 -0.640178\n",
       "2017-01-03  0.372253 -0.011574  0.674358 -1.380995\n",
       "2017-01-06 -1.489065  1.030647  1.159061  0.827351"
      ]
     },
     "execution_count": 7,
     "metadata": {},
     "output_type": "execute_result"
    }
   ],
   "source": [
    "df.sort_values(by='c')             #对'c'这一列的values排序"
   ]
  },
  {
   "cell_type": "code",
   "execution_count": 8,
   "metadata": {
    "collapsed": true
   },
   "outputs": [
    {
     "name": "stdout",
     "output_type": "stream",
     "text": [
      "2017-01-01     0\n",
      "2017-01-02     4\n",
      "2017-01-03     8\n",
      "2017-01-04    12\n",
      "2017-01-05    16\n",
      "2017-01-06    20\n",
      "Freq: D, Name: a, dtype: int32 2017-01-01     0\n",
      "2017-01-02     4\n",
      "2017-01-03     8\n",
      "2017-01-04    12\n",
      "2017-01-05    16\n",
      "2017-01-06    20\n",
      "Freq: D, Name: a, dtype: int32\n",
      "            a  b   c   d\n",
      "2017-01-01  0  1   2   3\n",
      "2017-01-02  4  5   6   7\n",
      "2017-01-03  8  9  10  11             a  b   c   d\n",
      "2017-01-01  0  1   2   3\n",
      "2017-01-02  4  5   6   7\n",
      "2017-01-03  8  9  10  11\n",
      "a    4\n",
      "b    5\n",
      "c    6\n",
      "d    7\n",
      "Name: 2017-01-02 00:00:00, dtype: int32\n",
      "             a   b\n",
      "2017-01-01   0   1\n",
      "2017-01-02   4   5\n",
      "2017-01-03   8   9\n",
      "2017-01-04  12  13\n",
      "2017-01-05  16  17\n",
      "2017-01-06  20  21\n",
      "a    4\n",
      "b    5\n",
      "Name: 2017-01-02 00:00:00, dtype: int32\n",
      "a    12\n",
      "b    13\n",
      "c    14\n",
      "d    15\n",
      "Name: 2017-01-04 00:00:00, dtype: int32\n",
      "13\n",
      "             b   c\n",
      "2017-01-03   9  10\n",
      "2017-01-04  13  14\n",
      "             b   c\n",
      "2017-01-02   5   6\n",
      "2017-01-04  13  14\n",
      "2017-01-06  21  22\n",
      "            a   c\n",
      "2017-01-01  0   2\n",
      "2017-01-02  4   6\n",
      "2017-01-03  8  10\n",
      "             a   b   c   d\n",
      "2017-01-04  12  13  14  15\n",
      "2017-01-05  16  17  18  19\n",
      "2017-01-06  20  21  22  23\n"
     ]
    }
   ],
   "source": [
    "# pandas 选择数据\n",
    "\n",
    "dates = pd.date_range('20170101',periods=6)\n",
    "df = pd.DataFrame(np.arange(24).reshape(6,4),index=dates,columns=['a','b','c','d'])\n",
    "\n",
    "print(df['a'],df.a)        # 列索引选择数据\n",
    "print(df[0:3],df['20170101':'20170103'])    # 切片选择数据\n",
    "\n",
    "# select by label:loc       通过标签选择数据  纯标签筛选\n",
    "print(df.loc['20170102'])  # 行索引选择数据\n",
    "print(df.loc[:,['a','b']])\n",
    "print(df.loc['20170102',['a','b']])\n",
    "\n",
    "# select by position:iloc   通过位置选择数据  纯数字筛选\n",
    "print(df.iloc[3])           #第4行数据\n",
    "print(df.iloc[3,1])         #第4行,第2位数据\n",
    "print(df.iloc[2:4,1:3])     #切片 第3-4行和第2-3列数据\n",
    "print(df.iloc[[1,3,5],1:3]) #逐个不连续筛选\n",
    "\n",
    "# mixed select:ix           标签和数字混合使用的筛选\n",
    "print(df.ix[:3,['a','c']])\n",
    "\n",
    "# Boolean indexing        是或者否筛选\n",
    "print(df[df.a > 8])"
   ]
  },
  {
   "cell_type": "code",
   "execution_count": 11,
   "metadata": {
    "collapsed": false
   },
   "outputs": [
    {
     "name": "stdout",
     "output_type": "stream",
     "text": [
      "            a    b    c   d   e\n",
      "2017-01-01  0    1    2   3 NaN\n",
      "2017-01-02  4    5    6   7 NaN\n",
      "2017-01-03  0  200  100  11 NaN\n",
      "2017-01-04  0   13   14  15 NaN\n",
      "2017-01-05  0   17   18  19 NaN\n",
      "2017-01-06  0   21   22  23 NaN\n"
     ]
    }
   ],
   "source": [
    "# pandas 设置值\n",
    "\n",
    "dates = pd.date_range('20170101',periods=6)\n",
    "df = pd.DataFrame(np.arange(24).reshape(6,4),index=dates,columns=['a','b','c','d'])\n",
    "\n",
    "df.iloc[2,2] = 100\n",
    "df.loc['20170103','b'] = 200\n",
    "# df[df.a > 4] = 0\n",
    "# df.a[df.a > 4] = 0\n",
    "df.b[df.a > 4] = 0\n",
    "df['e'] = np.nan      # 加‘e’列\n",
    "# df['f'] = pd.Series(np.arange(6),index=pd.date_range('20170101',periods=6))\n",
    "print(df)"
   ]
  },
  {
   "cell_type": "code",
   "execution_count": 80,
   "metadata": {
    "collapsed": true
   },
   "outputs": [
    {
     "name": "stdout",
     "output_type": "stream",
     "text": [
      "                a      b      c      d\n",
      "2017-01-01  False   True  False  False\n",
      "2017-01-02  False  False   True  False\n",
      "2017-01-03  False  False  False  False\n",
      "2017-01-04  False  False  False  False\n",
      "2017-01-05  False  False  False  False\n",
      "2017-01-06  False  False  False  False\n",
      "True\n",
      "             a     b     c   d\n",
      "2017-01-01   0   0.0   2.0   3\n",
      "2017-01-02   4   5.0   0.0   7\n",
      "2017-01-03   8   9.0  10.0  11\n",
      "2017-01-04  12  13.0  14.0  15\n",
      "2017-01-05  16  17.0  18.0  19\n",
      "2017-01-06  20  21.0  22.0  23\n"
     ]
    }
   ],
   "source": [
    "# pandas 处理丢失数据\n",
    "dates = pd.date_range('20170101',periods=6)\n",
    "df = pd.DataFrame(np.arange(24).reshape(6,4),index=dates,columns=['a','b','c','d'])\n",
    "df.iloc[0,1] = np.nan\n",
    "df.iloc[1,2] = np.nan\n",
    "\n",
    "print(df.isnull())                    # 判断是否有缺失值，返回True和Flase\n",
    "print(np.any(df.isnull()) == True)    # 检查数据中是否有NaN，有返回True\n",
    "# print(df.dropna(axis=0,how='any'))  # 'dropna':drop nan 丢弃缺失值；axis=0 某行有NaN丢弃行，axis=1 表示列；\n",
    "#                                     # how={'any','all'} 'any':有NaN就丢弃,'all':都是NaN才丢弃\n",
    "print(df.fillna(value=0))             # fill nan 填入数字\n"
   ]
  },
  {
   "cell_type": "code",
   "execution_count": 85,
   "metadata": {
    "collapsed": true
   },
   "outputs": [
    {
     "name": "stdout",
     "output_type": "stream",
     "text": [
      "  student id  age  gender\n",
      "0       wang   15    Male\n",
      "1       xiao   18  Female\n",
      "2        wei   21    Male\n"
     ]
    }
   ],
   "source": [
    "# pandas 导入导出数据\n",
    "\n",
    "data = pd.read_csv('C:/Users/wangxw/student.csv')   # 读取csv文件  pd.read_***(文件格式)\n",
    "print(data)\n",
    "\n",
    "data.to_pickle('student.pickle')         # 存储为pickle文件  data.to_***(文件格式)"
   ]
  },
  {
   "cell_type": "code",
   "execution_count": 14,
   "metadata": {
    "collapsed": true
   },
   "outputs": [
    {
     "name": "stdout",
     "output_type": "stream",
     "text": [
      "     a    b    c    d    b    c    d    e\n",
      "1  0.0  0.0  0.0  0.0  NaN  NaN  NaN  NaN\n",
      "2  0.0  0.0  0.0  0.0  1.0  1.0  1.0  1.0\n",
      "3  0.0  0.0  0.0  0.0  1.0  1.0  1.0  1.0\n"
     ]
    }
   ],
   "source": [
    "# pandas concat合并\n",
    "\n",
    "# concatenating\n",
    "# df1 = pd.DataFrame(np.ones((3,4))*0,columns=['a','b','c','d'])\n",
    "# df2 = pd.DataFrame(np.ones((3,4))*1,columns=['a','b','c','d'])\n",
    "# df3 = pd.DataFrame(np.ones((3,4))*2,columns=['a','b','c','d'])\n",
    "\n",
    "# res = pd.concat([df1,df2,df3],axis=0,ignore_index=True)   # axis=0 竖向合并，axis=1 横向;ignore_index：忽略原有的index，重新赋值\n",
    "# print(res)\n",
    "\n",
    "# join,['inner','outer']\n",
    "df1 = pd.DataFrame(np.ones((3,4))*0,columns=['a','b','c','d'],index=[1,2,3])\n",
    "df2 = pd.DataFrame(np.ones((3,4))*1,columns=['b','c','d','e'],index=[2,3,4])  #两个pd的index和columns不同\n",
    "res = pd.concat([df1,df2],join='outer',ignore_index=True)\n",
    "# res = pd.concat([df1,df2],join='inner',ignore_index=True)\n",
    "# print(res)\n",
    "\n",
    "# join_axes\n",
    "# res = pd.concat([df1,df2],axis=1,join_axes=[df1.index])   #按照df1的index合并  横向合并\n",
    "res = pd.concat([df1,df2],axis=0,join_axes=[df1.columns])   #按照df1的columns合并 竖向合并\n",
    "print(res)\n",
    "\n",
    "# append\n",
    "df1 = pd.DataFrame(np.ones((3,4))*0,columns=['a','b','c','d'])\n",
    "df2 = pd.DataFrame(np.ones((3,4))*1,columns=['a','b','c','d'])\n",
    "df3 = pd.DataFrame(np.ones((3,4))*2,columns=['a','b','c','d'])\n",
    "# res = df1.append(df2,ignore_index=True)           # append：df2加到df1的下面\n",
    "# res = df1.append([df2,df3],ignore_index=True)\n",
    "\n",
    "s1 = pd.Series([1,2,3,4],index=['a','b','c','d'])\n",
    "res = df1.append(s1,ignore_index=True)             # 添加一维的数据\n",
    "# print(res)"
   ]
  },
  {
   "cell_type": "code",
   "execution_count": 35,
   "metadata": {
    "collapsed": true
   },
   "outputs": [
    {
     "name": "stdout",
     "output_type": "stream",
     "text": [
      "   age   k\n",
      "0    1  K0\n",
      "1    2  K1\n",
      "2    3  K2\n",
      "   age   k\n",
      "0    4  K0\n",
      "1    5  K0\n",
      "2    6  K3\n",
      "   age_boy   k  age_girl\n",
      "0      1.0  K0       4.0\n",
      "1      1.0  K0       5.0\n",
      "2      2.0  K1       NaN\n",
      "3      3.0  K2       NaN\n",
      "4      NaN  K3       6.0\n"
     ]
    }
   ],
   "source": [
    "# pandas merge合并\n",
    "# merging two df by key/keys. (may be used in database)\n",
    "\n",
    "left = pd.DataFrame({'key':['K0','K1','K2','K3'],\n",
    "                   'A':['A0','A1','A2','A3'],\n",
    "                   'B':['B0','B1','B2','B3']})\n",
    "right = pd.DataFrame({'key':['K0','K1','K2','K3'],\n",
    "                   'C':['C0','C1','C2','C3'],\n",
    "                   'D':['D0','D1','D2','D3']})\n",
    "# print(left)\n",
    "# print(right)\n",
    "# res = pd.merge(left,right,on='key')\n",
    "# print(res)\n",
    "\n",
    "left = pd.DataFrame({'key1':['K0','K0','K1','K2'],\n",
    "                     'key2':['K0','K1','K0','K1'],\n",
    "                   'A':['A0','A1','A2','A3'],\n",
    "                   'B':['B0','B1','B2','B3']})\n",
    "right = pd.DataFrame({'key1':['K0','K1','K1','K2'],\n",
    "                      'key2':['K0','K0','K0','K0'],\n",
    "                   'C':['C0','C1','C2','C3'],\n",
    "                   'D':['D0','D1','D2','D3']})\n",
    "# print(left)\n",
    "# print(right)\n",
    "# # how = ['left','right','inner','outer'] 默认为'inner'\n",
    "# res = pd.merge(left,right,on=['key1','key2'],how='left')\n",
    "# print(res)\n",
    "\n",
    "# indicator\n",
    "df1 = pd.DataFrame({'col1':[0,1],'col_left':['a','b']})\n",
    "df2 = pd.DataFrame({'col1':[1,2,2],'col_right':[2,2,2]})\n",
    "# print(df1)\n",
    "# print(df2)\n",
    "# res = pd.merge(df1,df2,on='col1',how='outer',indicator=True)\n",
    "# give the indicator a custom name\n",
    "# res = pd.merge(df1,df2,on='col1',how='outer',indicator='indicator_column')\n",
    "# print(res)\n",
    "\n",
    "# merged by index\n",
    "left = pd.DataFrame({'A':['A0','A1','A2'],\n",
    "                    'B':['B0','B1','B2']},\n",
    "                   index=['K0','K1','K2'])\n",
    "right = pd.DataFrame({'C':['C0','C2','C3'],\n",
    "                     'D':['D0','D2','D3']},\n",
    "                    index=['K0','K2','K3'])\n",
    "# print(left)\n",
    "# print(right)\n",
    "# left_index and right_index\n",
    "# res = pd.merge(left,right,left_index=True,right_index=True,how='outer')\n",
    "# print(res)\n",
    "\n",
    "# handle overlapping 处理重叠\n",
    "boys = pd.DataFrame({'k':['K0','K1','K2'],'age':[1,2,3]})\n",
    "girls = pd.DataFrame({'k':['K0','K0','K3'],'age':[4,5,6]})\n",
    "print(boys)\n",
    "print(girls)\n",
    "res = pd.merge(boys,girls,on='k',suffixes=['_boy','_girl'],how='outer')\n",
    "print(res)\n"
   ]
  },
  {
   "cell_type": "code",
   "execution_count": 1,
   "metadata": {
    "collapsed": false
   },
   "outputs": [
    {
     "name": "stdout",
     "output_type": "stream",
     "text": [
      "          A         B         C         D\n",
      "0  0.974495  0.001382  0.052472  0.666256\n",
      "1  1.112622  0.258761 -1.645241  0.535621\n",
      "2 -0.129148  0.628605 -1.326407  0.490083\n",
      "3 -1.541357  0.107251 -0.402775 -0.480849\n",
      "4 -3.392856  0.715197 -0.768467 -1.266812\n"
     ]
    },
    {
     "data": {
      "image/png": "[encoded data removed]",
      "text/plain": [
       "<matplotlib.figure.Figure at 0x96626a0>"
      ]
     },
     "metadata": {},
     "output_type": "display_data"
    }
   ],
   "source": [
    "# pandas plot图表\n",
    "import pandas as pd\n",
    "import numpy as np\n",
    "import matplotlib.pyplot as plt\n",
    "\n",
    "# plot data\n",
    "\n",
    "# Series\n",
    "data = pd.Series(np.random.randn(1000),index=np.arange(1000))\n",
    "data = data.cumsum()    #累加\n",
    "\n",
    "# DataFrame\n",
    "data = pd.DataFrame(np.random.randn(1000,4),\n",
    "                   index=np.arange(1000),\n",
    "                   columns=list(\"ABCD\"))\n",
    "data = data.cumsum()\n",
    "print(data.head())    # 默认显示前5个数据，data.head(10)：前10个数据\n",
    "\n",
    "data.plot()\n",
    "plt.show()\n",
    "\n",
    "# plot methods:\n",
    "# 'bar','hist','box','kde','area','scatter','hexbin','pie'\n",
    "# ax = data.plot.scatter(x='A',y='B',color='DarkBlue',label='Class 1')\n",
    "# data.plot.scatter(x='A',y='C',color='DarkGreen',label='Class 2',ax=ax)\n",
    "# plt.show()\n"
   ]
  },
  {
   "cell_type": "code",
   "execution_count": null,
   "metadata": {
    "collapsed": true
   },
   "outputs": [],
   "source": []
  }
 ],
 "metadata": {
  "anaconda-cloud": {},
  "kernelspec": {
   "display_name": "Python [default]",
   "language": "python",
   "name": "python3"
  },
  "language_info": {
   "codemirror_mode": {
    "name": "ipython",
    "version": 3
   },
   "file_extension": ".py",
   "mimetype": "text/x-python",
   "name": "python",
   "nbconvert_exporter": "python",
   "pygments_lexer": "ipython3",
   "version": "3.5.2"
  }
 },
 "nbformat": 4,
 "nbformat_minor": 1
}
